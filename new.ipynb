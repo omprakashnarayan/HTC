{
 "cells": [
  {
   "cell_type": "markdown",
   "source": [
    "In this problem we are given a Excel file with data about diabetes patients\n",
    "Aim:\n",
    "•\tIdentify patients on path to high-cost disease state\n",
    "•\tAssign patient scores based on the severity of condition\n",
    "•\tSeggregate patients for 2 possible care paths\n",
    "        Care Intervention\n",
    "        Lower cost of care\n",
    "\n",
    "Tasks:\n",
    "1.\tCleanse the data removing blank rows\n",
    "2.\tHandle the outliers and missing data\n",
    "3.\tImplement EDA and determine quality of data and is the data sufficient to achieve any of the above objective\n",
    "4.\tImplement properly the categorical data with proper encoding\n",
    "5.\tImplement proper feature engineering\n",
    "6.\tUse the proper ML algorithm for training the model and data predictions. Leverage supervised or unsupervised algorithms based on the given dataset\n",
    "\n",
    "The input dataset is uploaded in below link\n",
    "https://usecasedata1.blob.core.windows.net/diabetesdc/diabetes_data.xlsx\n",
    "\n",
    "Expected output:\n",
    "Categorize patient data based on diabetes severity level(high, medium, low)\n",
    "\n",
    "\n"
   ],
   "metadata": {
    "collapsed": false
   }
  },
  {
   "cell_type": "code",
   "execution_count": 1,
   "outputs": [],
   "source": [
    "# Importing the required library\n",
    "import numpy as np\n",
    "import pandas as pd\n",
    "import matplotlib.pyplot as plt\n",
    "from sklearn.model_selection import train_test_split\n",
    "from sklearn.preprocessing import StandardScaler, LabelEncoder\n",
    "from sklearn.ensemble import RandomForestClassifier\n",
    "from sklearn.metrics import classification_report"
   ],
   "metadata": {
    "collapsed": false
   }
  },
  {
   "cell_type": "code",
   "execution_count": 2,
   "outputs": [
    {
     "data": {
      "text/plain": "   id  encounter_id  patient_nbr             race  gender      age weight  \\\n0   1       2278392      8222157        Caucasian  Female   [0-10)      ?   \n1   2        149190     55629189        Caucasian  Female  [10-20)      ?   \n2   3         64410     86047875  AfricanAmerican  Female  [20-30)      ?   \n3   4        500364     82442376        Caucasian    Male  [30-40)      ?   \n4   5         16680     42519267        Caucasian    Male  [40-50)      ?   \n\n   admission_type_id  discharge_disposition_id  admission_source_id  ...  \\\n0                  6                        25                    1  ...   \n1                  1                         1                    7  ...   \n2                  1                         1                    7  ...   \n3                  1                         1                    7  ...   \n4                  1                         1                    7  ...   \n\n   citoglipton insulin glyburide.metformin  glipizide.metformin  \\\n0           No      No                  No                   No   \n1           No      Up                  No                   No   \n2           No      No                  No                   No   \n3           No      Up                  No                   No   \n4           No  Steady                  No                   No   \n\n   glimepiride.pioglitazone  metformin.rosiglitazone  metformin.pioglitazone  \\\n0                        No                       No                      No   \n1                        No                       No                      No   \n2                        No                       No                      No   \n3                        No                       No                      No   \n4                        No                       No                      No   \n\n   change  diabetesMed readmitted  \n0      No           No         NO  \n1      Ch          Yes        >30  \n2      No          Yes         NO  \n3      Ch          Yes         NO  \n4      Ch          Yes         NO  \n\n[5 rows x 51 columns]",
      "text/html": "<div>\n<style scoped>\n    .dataframe tbody tr th:only-of-type {\n        vertical-align: middle;\n    }\n\n    .dataframe tbody tr th {\n        vertical-align: top;\n    }\n\n    .dataframe thead th {\n        text-align: right;\n    }\n</style>\n<table border=\"1\" class=\"dataframe\">\n  <thead>\n    <tr style=\"text-align: right;\">\n      <th></th>\n      <th>id</th>\n      <th>encounter_id</th>\n      <th>patient_nbr</th>\n      <th>race</th>\n      <th>gender</th>\n      <th>age</th>\n      <th>weight</th>\n      <th>admission_type_id</th>\n      <th>discharge_disposition_id</th>\n      <th>admission_source_id</th>\n      <th>...</th>\n      <th>citoglipton</th>\n      <th>insulin</th>\n      <th>glyburide.metformin</th>\n      <th>glipizide.metformin</th>\n      <th>glimepiride.pioglitazone</th>\n      <th>metformin.rosiglitazone</th>\n      <th>metformin.pioglitazone</th>\n      <th>change</th>\n      <th>diabetesMed</th>\n      <th>readmitted</th>\n    </tr>\n  </thead>\n  <tbody>\n    <tr>\n      <th>0</th>\n      <td>1</td>\n      <td>2278392</td>\n      <td>8222157</td>\n      <td>Caucasian</td>\n      <td>Female</td>\n      <td>[0-10)</td>\n      <td>?</td>\n      <td>6</td>\n      <td>25</td>\n      <td>1</td>\n      <td>...</td>\n      <td>No</td>\n      <td>No</td>\n      <td>No</td>\n      <td>No</td>\n      <td>No</td>\n      <td>No</td>\n      <td>No</td>\n      <td>No</td>\n      <td>No</td>\n      <td>NO</td>\n    </tr>\n    <tr>\n      <th>1</th>\n      <td>2</td>\n      <td>149190</td>\n      <td>55629189</td>\n      <td>Caucasian</td>\n      <td>Female</td>\n      <td>[10-20)</td>\n      <td>?</td>\n      <td>1</td>\n      <td>1</td>\n      <td>7</td>\n      <td>...</td>\n      <td>No</td>\n      <td>Up</td>\n      <td>No</td>\n      <td>No</td>\n      <td>No</td>\n      <td>No</td>\n      <td>No</td>\n      <td>Ch</td>\n      <td>Yes</td>\n      <td>&gt;30</td>\n    </tr>\n    <tr>\n      <th>2</th>\n      <td>3</td>\n      <td>64410</td>\n      <td>86047875</td>\n      <td>AfricanAmerican</td>\n      <td>Female</td>\n      <td>[20-30)</td>\n      <td>?</td>\n      <td>1</td>\n      <td>1</td>\n      <td>7</td>\n      <td>...</td>\n      <td>No</td>\n      <td>No</td>\n      <td>No</td>\n      <td>No</td>\n      <td>No</td>\n      <td>No</td>\n      <td>No</td>\n      <td>No</td>\n      <td>Yes</td>\n      <td>NO</td>\n    </tr>\n    <tr>\n      <th>3</th>\n      <td>4</td>\n      <td>500364</td>\n      <td>82442376</td>\n      <td>Caucasian</td>\n      <td>Male</td>\n      <td>[30-40)</td>\n      <td>?</td>\n      <td>1</td>\n      <td>1</td>\n      <td>7</td>\n      <td>...</td>\n      <td>No</td>\n      <td>Up</td>\n      <td>No</td>\n      <td>No</td>\n      <td>No</td>\n      <td>No</td>\n      <td>No</td>\n      <td>Ch</td>\n      <td>Yes</td>\n      <td>NO</td>\n    </tr>\n    <tr>\n      <th>4</th>\n      <td>5</td>\n      <td>16680</td>\n      <td>42519267</td>\n      <td>Caucasian</td>\n      <td>Male</td>\n      <td>[40-50)</td>\n      <td>?</td>\n      <td>1</td>\n      <td>1</td>\n      <td>7</td>\n      <td>...</td>\n      <td>No</td>\n      <td>Steady</td>\n      <td>No</td>\n      <td>No</td>\n      <td>No</td>\n      <td>No</td>\n      <td>No</td>\n      <td>Ch</td>\n      <td>Yes</td>\n      <td>NO</td>\n    </tr>\n  </tbody>\n</table>\n<p>5 rows × 51 columns</p>\n</div>"
     },
     "metadata": {},
     "output_type": "display_data"
    }
   ],
   "source": [
    "df=pd.read_excel(\"./diabetes_data.xlsx\")\n",
    "display(df.head())"
   ],
   "metadata": {
    "collapsed": false
   }
  },
  {
   "cell_type": "code",
   "execution_count": 4,
   "outputs": [
    {
     "name": "stdout",
     "output_type": "stream",
     "text": [
      "<class 'pandas.core.frame.DataFrame'>\n",
      "RangeIndex: 101766 entries, 0 to 101765\n",
      "Data columns (total 51 columns):\n",
      " #   Column                    Non-Null Count   Dtype \n",
      "---  ------                    --------------   ----- \n",
      " 0   id                        101766 non-null  int64 \n",
      " 1   encounter_id              101766 non-null  int64 \n",
      " 2   patient_nbr               101766 non-null  int64 \n",
      " 3   race                      101766 non-null  object\n",
      " 4   gender                    101766 non-null  object\n",
      " 5   age                       101766 non-null  object\n",
      " 6   weight                    101766 non-null  object\n",
      " 7   admission_type_id         101766 non-null  int64 \n",
      " 8   discharge_disposition_id  101766 non-null  int64 \n",
      " 9   admission_source_id       101766 non-null  int64 \n",
      " 10  time_in_hospital          101766 non-null  int64 \n",
      " 11  payer_code                101766 non-null  object\n",
      " 12  medical_specialty         101766 non-null  object\n",
      " 13  num_lab_procedures        101766 non-null  int64 \n",
      " 14  num_procedures            101766 non-null  int64 \n",
      " 15  num_medications           101766 non-null  int64 \n",
      " 16  number_outpatient         101766 non-null  int64 \n",
      " 17  number_emergency          101766 non-null  int64 \n",
      " 18  number_inpatient          101766 non-null  int64 \n",
      " 19  diag_1                    101766 non-null  object\n",
      " 20  diag_2                    101766 non-null  object\n",
      " 21  diag_3                    101766 non-null  object\n",
      " 22  number_diagnoses          101766 non-null  int64 \n",
      " 23  max_glu_serum             101766 non-null  object\n",
      " 24  A1Cresult                 101766 non-null  object\n",
      " 25  metformin                 101766 non-null  object\n",
      " 26  repaglinide               101766 non-null  object\n",
      " 27  nateglinide               101766 non-null  object\n",
      " 28  chlorpropamide            101766 non-null  object\n",
      " 29  glimepiride               101766 non-null  object\n",
      " 30  acetohexamide             101766 non-null  object\n",
      " 31  glipizide                 101766 non-null  object\n",
      " 32  glyburide                 101766 non-null  object\n",
      " 33  tolbutamide               101766 non-null  object\n",
      " 34  pioglitazone              101766 non-null  object\n",
      " 35  rosiglitazone             101766 non-null  object\n",
      " 36  acarbose                  101766 non-null  object\n",
      " 37  miglitol                  101766 non-null  object\n",
      " 38  troglitazone              101766 non-null  object\n",
      " 39  tolazamide                101766 non-null  object\n",
      " 40  examide                   101766 non-null  object\n",
      " 41  citoglipton               101766 non-null  object\n",
      " 42  insulin                   101766 non-null  object\n",
      " 43  glyburide.metformin       101766 non-null  object\n",
      " 44  glipizide.metformin       101766 non-null  object\n",
      " 45  glimepiride.pioglitazone  101766 non-null  object\n",
      " 46  metformin.rosiglitazone   101766 non-null  object\n",
      " 47  metformin.pioglitazone    101766 non-null  object\n",
      " 48  change                    101766 non-null  object\n",
      " 49  diabetesMed               101766 non-null  object\n",
      " 50  readmitted                101766 non-null  object\n",
      "dtypes: int64(14), object(37)\n",
      "memory usage: 39.6+ MB\n"
     ]
    },
    {
     "data": {
      "text/plain": "None"
     },
     "metadata": {},
     "output_type": "display_data"
    },
    {
     "data": {
      "text/plain": "                  id  encounter_id   patient_nbr  admission_type_id  \\\ncount  101766.000000  1.017660e+05  1.017660e+05      101766.000000   \nmean    50883.500000  1.652016e+08  5.433040e+07           2.024006   \nstd     29377.458084  1.026403e+08  3.869636e+07           1.445403   \nmin         1.000000  1.252200e+04  1.350000e+02           1.000000   \n25%     25442.250000  8.496119e+07  2.341322e+07           1.000000   \n50%     50883.500000  1.523890e+08  4.550514e+07           1.000000   \n75%     76324.750000  2.302709e+08  8.754595e+07           3.000000   \nmax    101766.000000  4.438672e+08  1.895026e+08           8.000000   \n\n       discharge_disposition_id  admission_source_id  time_in_hospital  \\\ncount             101766.000000        101766.000000     101766.000000   \nmean                   3.715642             5.754437          4.395987   \nstd                    5.280166             4.064081          2.985108   \nmin                    1.000000             1.000000          1.000000   \n25%                    1.000000             1.000000          2.000000   \n50%                    1.000000             7.000000          4.000000   \n75%                    4.000000             7.000000          6.000000   \nmax                   28.000000            25.000000         14.000000   \n\n       num_lab_procedures  num_procedures  num_medications  number_outpatient  \\\ncount       101766.000000   101766.000000    101766.000000      101766.000000   \nmean            43.095641        1.339730        16.021844           0.369357   \nstd             19.674362        1.705807         8.127566           1.267265   \nmin              1.000000        0.000000         1.000000           0.000000   \n25%             31.000000        0.000000        10.000000           0.000000   \n50%             44.000000        1.000000        15.000000           0.000000   \n75%             57.000000        2.000000        20.000000           0.000000   \nmax            132.000000        6.000000        81.000000          42.000000   \n\n       number_emergency  number_inpatient  number_diagnoses  \ncount     101766.000000     101766.000000     101766.000000  \nmean           0.197836          0.635566          7.422607  \nstd            0.930472          1.262863          1.933600  \nmin            0.000000          0.000000          1.000000  \n25%            0.000000          0.000000          6.000000  \n50%            0.000000          0.000000          8.000000  \n75%            0.000000          1.000000          9.000000  \nmax           76.000000         21.000000         16.000000  ",
      "text/html": "<div>\n<style scoped>\n    .dataframe tbody tr th:only-of-type {\n        vertical-align: middle;\n    }\n\n    .dataframe tbody tr th {\n        vertical-align: top;\n    }\n\n    .dataframe thead th {\n        text-align: right;\n    }\n</style>\n<table border=\"1\" class=\"dataframe\">\n  <thead>\n    <tr style=\"text-align: right;\">\n      <th></th>\n      <th>id</th>\n      <th>encounter_id</th>\n      <th>patient_nbr</th>\n      <th>admission_type_id</th>\n      <th>discharge_disposition_id</th>\n      <th>admission_source_id</th>\n      <th>time_in_hospital</th>\n      <th>num_lab_procedures</th>\n      <th>num_procedures</th>\n      <th>num_medications</th>\n      <th>number_outpatient</th>\n      <th>number_emergency</th>\n      <th>number_inpatient</th>\n      <th>number_diagnoses</th>\n    </tr>\n  </thead>\n  <tbody>\n    <tr>\n      <th>count</th>\n      <td>101766.000000</td>\n      <td>1.017660e+05</td>\n      <td>1.017660e+05</td>\n      <td>101766.000000</td>\n      <td>101766.000000</td>\n      <td>101766.000000</td>\n      <td>101766.000000</td>\n      <td>101766.000000</td>\n      <td>101766.000000</td>\n      <td>101766.000000</td>\n      <td>101766.000000</td>\n      <td>101766.000000</td>\n      <td>101766.000000</td>\n      <td>101766.000000</td>\n    </tr>\n    <tr>\n      <th>mean</th>\n      <td>50883.500000</td>\n      <td>1.652016e+08</td>\n      <td>5.433040e+07</td>\n      <td>2.024006</td>\n      <td>3.715642</td>\n      <td>5.754437</td>\n      <td>4.395987</td>\n      <td>43.095641</td>\n      <td>1.339730</td>\n      <td>16.021844</td>\n      <td>0.369357</td>\n      <td>0.197836</td>\n      <td>0.635566</td>\n      <td>7.422607</td>\n    </tr>\n    <tr>\n      <th>std</th>\n      <td>29377.458084</td>\n      <td>1.026403e+08</td>\n      <td>3.869636e+07</td>\n      <td>1.445403</td>\n      <td>5.280166</td>\n      <td>4.064081</td>\n      <td>2.985108</td>\n      <td>19.674362</td>\n      <td>1.705807</td>\n      <td>8.127566</td>\n      <td>1.267265</td>\n      <td>0.930472</td>\n      <td>1.262863</td>\n      <td>1.933600</td>\n    </tr>\n    <tr>\n      <th>min</th>\n      <td>1.000000</td>\n      <td>1.252200e+04</td>\n      <td>1.350000e+02</td>\n      <td>1.000000</td>\n      <td>1.000000</td>\n      <td>1.000000</td>\n      <td>1.000000</td>\n      <td>1.000000</td>\n      <td>0.000000</td>\n      <td>1.000000</td>\n      <td>0.000000</td>\n      <td>0.000000</td>\n      <td>0.000000</td>\n      <td>1.000000</td>\n    </tr>\n    <tr>\n      <th>25%</th>\n      <td>25442.250000</td>\n      <td>8.496119e+07</td>\n      <td>2.341322e+07</td>\n      <td>1.000000</td>\n      <td>1.000000</td>\n      <td>1.000000</td>\n      <td>2.000000</td>\n      <td>31.000000</td>\n      <td>0.000000</td>\n      <td>10.000000</td>\n      <td>0.000000</td>\n      <td>0.000000</td>\n      <td>0.000000</td>\n      <td>6.000000</td>\n    </tr>\n    <tr>\n      <th>50%</th>\n      <td>50883.500000</td>\n      <td>1.523890e+08</td>\n      <td>4.550514e+07</td>\n      <td>1.000000</td>\n      <td>1.000000</td>\n      <td>7.000000</td>\n      <td>4.000000</td>\n      <td>44.000000</td>\n      <td>1.000000</td>\n      <td>15.000000</td>\n      <td>0.000000</td>\n      <td>0.000000</td>\n      <td>0.000000</td>\n      <td>8.000000</td>\n    </tr>\n    <tr>\n      <th>75%</th>\n      <td>76324.750000</td>\n      <td>2.302709e+08</td>\n      <td>8.754595e+07</td>\n      <td>3.000000</td>\n      <td>4.000000</td>\n      <td>7.000000</td>\n      <td>6.000000</td>\n      <td>57.000000</td>\n      <td>2.000000</td>\n      <td>20.000000</td>\n      <td>0.000000</td>\n      <td>0.000000</td>\n      <td>1.000000</td>\n      <td>9.000000</td>\n    </tr>\n    <tr>\n      <th>max</th>\n      <td>101766.000000</td>\n      <td>4.438672e+08</td>\n      <td>1.895026e+08</td>\n      <td>8.000000</td>\n      <td>28.000000</td>\n      <td>25.000000</td>\n      <td>14.000000</td>\n      <td>132.000000</td>\n      <td>6.000000</td>\n      <td>81.000000</td>\n      <td>42.000000</td>\n      <td>76.000000</td>\n      <td>21.000000</td>\n      <td>16.000000</td>\n    </tr>\n  </tbody>\n</table>\n</div>"
     },
     "metadata": {},
     "output_type": "display_data"
    }
   ],
   "source": [
    "display(df.info())\n",
    "display(df.describe())"
   ],
   "metadata": {
    "collapsed": false
   }
  },
  {
   "cell_type": "markdown",
   "source": [],
   "metadata": {
    "collapsed": false
   }
  },
  {
   "cell_type": "markdown",
   "source": [
    "The data frame is filled with many features out of which id, encounter_id, patient_nbr are unique and they don’t have significance compared to others as they are only identifiers"
   ],
   "metadata": {
    "collapsed": false
   }
  },
  {
   "cell_type": "code",
   "execution_count": 6,
   "outputs": [
    {
     "data": {
      "text/plain": "                   race  gender      age weight  admission_type_id  \\\n0             Caucasian  Female   [0-10)      ?                  6   \n1             Caucasian  Female  [10-20)      ?                  1   \n2       AfricanAmerican  Female  [20-30)      ?                  1   \n3             Caucasian    Male  [30-40)      ?                  1   \n4             Caucasian    Male  [40-50)      ?                  1   \n...                 ...     ...      ...    ...                ...   \n101761  AfricanAmerican    Male  [70-80)      ?                  1   \n101762  AfricanAmerican  Female  [80-90)      ?                  1   \n101763        Caucasian    Male  [70-80)      ?                  1   \n101764        Caucasian  Female  [80-90)      ?                  2   \n101765        Caucasian    Male  [70-80)      ?                  1   \n\n        discharge_disposition_id  admission_source_id  time_in_hospital  \\\n0                             25                    1                 1   \n1                              1                    7                 3   \n2                              1                    7                 2   \n3                              1                    7                 2   \n4                              1                    7                 1   \n...                          ...                  ...               ...   \n101761                         3                    7                 3   \n101762                         4                    5                 5   \n101763                         1                    7                 1   \n101764                         3                    7                10   \n101765                         1                    7                 6   \n\n       payer_code         medical_specialty  ...  citoglipton  insulin  \\\n0               ?  Pediatrics-Endocrinology  ...           No       No   \n1               ?                         ?  ...           No       Up   \n2               ?                         ?  ...           No       No   \n3               ?                         ?  ...           No       Up   \n4               ?                         ?  ...           No   Steady   \n...           ...                       ...  ...          ...      ...   \n101761         MC                         ?  ...           No     Down   \n101762         MC                         ?  ...           No   Steady   \n101763         MC                         ?  ...           No     Down   \n101764         MC           Surgery-General  ...           No       Up   \n101765          ?                         ?  ...           No       No   \n\n        glyburide.metformin  glipizide.metformin  glimepiride.pioglitazone  \\\n0                        No                   No                        No   \n1                        No                   No                        No   \n2                        No                   No                        No   \n3                        No                   No                        No   \n4                        No                   No                        No   \n...                     ...                  ...                       ...   \n101761                   No                   No                        No   \n101762                   No                   No                        No   \n101763                   No                   No                        No   \n101764                   No                   No                        No   \n101765                   No                   No                        No   \n\n        metformin.rosiglitazone metformin.pioglitazone change diabetesMed  \\\n0                            No                     No     No          No   \n1                            No                     No     Ch         Yes   \n2                            No                     No     No         Yes   \n3                            No                     No     Ch         Yes   \n4                            No                     No     Ch         Yes   \n...                         ...                    ...    ...         ...   \n101761                       No                     No     Ch         Yes   \n101762                       No                     No     No         Yes   \n101763                       No                     No     Ch         Yes   \n101764                       No                     No     Ch         Yes   \n101765                       No                     No     No          No   \n\n        readmitted  \n0               NO  \n1              >30  \n2               NO  \n3               NO  \n4               NO  \n...            ...  \n101761         >30  \n101762          NO  \n101763          NO  \n101764          NO  \n101765          NO  \n\n[101766 rows x 48 columns]",
      "text/html": "<div>\n<style scoped>\n    .dataframe tbody tr th:only-of-type {\n        vertical-align: middle;\n    }\n\n    .dataframe tbody tr th {\n        vertical-align: top;\n    }\n\n    .dataframe thead th {\n        text-align: right;\n    }\n</style>\n<table border=\"1\" class=\"dataframe\">\n  <thead>\n    <tr style=\"text-align: right;\">\n      <th></th>\n      <th>race</th>\n      <th>gender</th>\n      <th>age</th>\n      <th>weight</th>\n      <th>admission_type_id</th>\n      <th>discharge_disposition_id</th>\n      <th>admission_source_id</th>\n      <th>time_in_hospital</th>\n      <th>payer_code</th>\n      <th>medical_specialty</th>\n      <th>...</th>\n      <th>citoglipton</th>\n      <th>insulin</th>\n      <th>glyburide.metformin</th>\n      <th>glipizide.metformin</th>\n      <th>glimepiride.pioglitazone</th>\n      <th>metformin.rosiglitazone</th>\n      <th>metformin.pioglitazone</th>\n      <th>change</th>\n      <th>diabetesMed</th>\n      <th>readmitted</th>\n    </tr>\n  </thead>\n  <tbody>\n    <tr>\n      <th>0</th>\n      <td>Caucasian</td>\n      <td>Female</td>\n      <td>[0-10)</td>\n      <td>?</td>\n      <td>6</td>\n      <td>25</td>\n      <td>1</td>\n      <td>1</td>\n      <td>?</td>\n      <td>Pediatrics-Endocrinology</td>\n      <td>...</td>\n      <td>No</td>\n      <td>No</td>\n      <td>No</td>\n      <td>No</td>\n      <td>No</td>\n      <td>No</td>\n      <td>No</td>\n      <td>No</td>\n      <td>No</td>\n      <td>NO</td>\n    </tr>\n    <tr>\n      <th>1</th>\n      <td>Caucasian</td>\n      <td>Female</td>\n      <td>[10-20)</td>\n      <td>?</td>\n      <td>1</td>\n      <td>1</td>\n      <td>7</td>\n      <td>3</td>\n      <td>?</td>\n      <td>?</td>\n      <td>...</td>\n      <td>No</td>\n      <td>Up</td>\n      <td>No</td>\n      <td>No</td>\n      <td>No</td>\n      <td>No</td>\n      <td>No</td>\n      <td>Ch</td>\n      <td>Yes</td>\n      <td>&gt;30</td>\n    </tr>\n    <tr>\n      <th>2</th>\n      <td>AfricanAmerican</td>\n      <td>Female</td>\n      <td>[20-30)</td>\n      <td>?</td>\n      <td>1</td>\n      <td>1</td>\n      <td>7</td>\n      <td>2</td>\n      <td>?</td>\n      <td>?</td>\n      <td>...</td>\n      <td>No</td>\n      <td>No</td>\n      <td>No</td>\n      <td>No</td>\n      <td>No</td>\n      <td>No</td>\n      <td>No</td>\n      <td>No</td>\n      <td>Yes</td>\n      <td>NO</td>\n    </tr>\n    <tr>\n      <th>3</th>\n      <td>Caucasian</td>\n      <td>Male</td>\n      <td>[30-40)</td>\n      <td>?</td>\n      <td>1</td>\n      <td>1</td>\n      <td>7</td>\n      <td>2</td>\n      <td>?</td>\n      <td>?</td>\n      <td>...</td>\n      <td>No</td>\n      <td>Up</td>\n      <td>No</td>\n      <td>No</td>\n      <td>No</td>\n      <td>No</td>\n      <td>No</td>\n      <td>Ch</td>\n      <td>Yes</td>\n      <td>NO</td>\n    </tr>\n    <tr>\n      <th>4</th>\n      <td>Caucasian</td>\n      <td>Male</td>\n      <td>[40-50)</td>\n      <td>?</td>\n      <td>1</td>\n      <td>1</td>\n      <td>7</td>\n      <td>1</td>\n      <td>?</td>\n      <td>?</td>\n      <td>...</td>\n      <td>No</td>\n      <td>Steady</td>\n      <td>No</td>\n      <td>No</td>\n      <td>No</td>\n      <td>No</td>\n      <td>No</td>\n      <td>Ch</td>\n      <td>Yes</td>\n      <td>NO</td>\n    </tr>\n    <tr>\n      <th>...</th>\n      <td>...</td>\n      <td>...</td>\n      <td>...</td>\n      <td>...</td>\n      <td>...</td>\n      <td>...</td>\n      <td>...</td>\n      <td>...</td>\n      <td>...</td>\n      <td>...</td>\n      <td>...</td>\n      <td>...</td>\n      <td>...</td>\n      <td>...</td>\n      <td>...</td>\n      <td>...</td>\n      <td>...</td>\n      <td>...</td>\n      <td>...</td>\n      <td>...</td>\n      <td>...</td>\n    </tr>\n    <tr>\n      <th>101761</th>\n      <td>AfricanAmerican</td>\n      <td>Male</td>\n      <td>[70-80)</td>\n      <td>?</td>\n      <td>1</td>\n      <td>3</td>\n      <td>7</td>\n      <td>3</td>\n      <td>MC</td>\n      <td>?</td>\n      <td>...</td>\n      <td>No</td>\n      <td>Down</td>\n      <td>No</td>\n      <td>No</td>\n      <td>No</td>\n      <td>No</td>\n      <td>No</td>\n      <td>Ch</td>\n      <td>Yes</td>\n      <td>&gt;30</td>\n    </tr>\n    <tr>\n      <th>101762</th>\n      <td>AfricanAmerican</td>\n      <td>Female</td>\n      <td>[80-90)</td>\n      <td>?</td>\n      <td>1</td>\n      <td>4</td>\n      <td>5</td>\n      <td>5</td>\n      <td>MC</td>\n      <td>?</td>\n      <td>...</td>\n      <td>No</td>\n      <td>Steady</td>\n      <td>No</td>\n      <td>No</td>\n      <td>No</td>\n      <td>No</td>\n      <td>No</td>\n      <td>No</td>\n      <td>Yes</td>\n      <td>NO</td>\n    </tr>\n    <tr>\n      <th>101763</th>\n      <td>Caucasian</td>\n      <td>Male</td>\n      <td>[70-80)</td>\n      <td>?</td>\n      <td>1</td>\n      <td>1</td>\n      <td>7</td>\n      <td>1</td>\n      <td>MC</td>\n      <td>?</td>\n      <td>...</td>\n      <td>No</td>\n      <td>Down</td>\n      <td>No</td>\n      <td>No</td>\n      <td>No</td>\n      <td>No</td>\n      <td>No</td>\n      <td>Ch</td>\n      <td>Yes</td>\n      <td>NO</td>\n    </tr>\n    <tr>\n      <th>101764</th>\n      <td>Caucasian</td>\n      <td>Female</td>\n      <td>[80-90)</td>\n      <td>?</td>\n      <td>2</td>\n      <td>3</td>\n      <td>7</td>\n      <td>10</td>\n      <td>MC</td>\n      <td>Surgery-General</td>\n      <td>...</td>\n      <td>No</td>\n      <td>Up</td>\n      <td>No</td>\n      <td>No</td>\n      <td>No</td>\n      <td>No</td>\n      <td>No</td>\n      <td>Ch</td>\n      <td>Yes</td>\n      <td>NO</td>\n    </tr>\n    <tr>\n      <th>101765</th>\n      <td>Caucasian</td>\n      <td>Male</td>\n      <td>[70-80)</td>\n      <td>?</td>\n      <td>1</td>\n      <td>1</td>\n      <td>7</td>\n      <td>6</td>\n      <td>?</td>\n      <td>?</td>\n      <td>...</td>\n      <td>No</td>\n      <td>No</td>\n      <td>No</td>\n      <td>No</td>\n      <td>No</td>\n      <td>No</td>\n      <td>No</td>\n      <td>No</td>\n      <td>No</td>\n      <td>NO</td>\n    </tr>\n  </tbody>\n</table>\n<p>101766 rows × 48 columns</p>\n</div>"
     },
     "metadata": {},
     "output_type": "display_data"
    }
   ],
   "source": [
    "df=df.drop(columns=[\"id\", \"encounter_id\", \"patient_nbr\"])\n",
    "display(df)"
   ],
   "metadata": {
    "collapsed": false
   }
  },
  {
   "cell_type": "code",
   "execution_count": 9,
   "outputs": [],
   "source": [
    "categorical_features = ['race', 'gender', 'age', 'admission_type_id', 'discharge_disposition_id', 'admission_source_id', 'medical_specialty', 'max_glu_serum', 'A1Cresult', 'metformin', 'repaglinide', 'nateglinide', 'chlorpropamide', 'glimepiride', 'acetohexamide', 'glipizide', 'glyburide', 'tolbutamide', 'pioglitazone', 'rosiglitazone', 'acarbose', 'miglitol', 'troglitazone', 'tolazamide', 'insulin', 'glyburide.metformin', 'glipizide.metformin', 'glimepiride.pioglitazone', 'metformin.rosiglitazone', 'metformin.pioglitazone', 'change', 'diabetesMed']\n",
    "\n",
    "# Apply label encoding to categorical features\n",
    "label_encoder = LabelEncoder()\n",
    "for feature in categorical_features:\n",
    "    df[feature] = label_encoder.fit_transform(df[feature])"
   ],
   "metadata": {
    "collapsed": false
   }
  },
  {
   "cell_type": "code",
   "execution_count": 15,
   "outputs": [],
   "source": [
    "df.to_excel(\"new.xlsx\")"
   ],
   "metadata": {
    "collapsed": false
   }
  },
  {
   "cell_type": "code",
   "execution_count": null,
   "outputs": [],
   "source": [],
   "metadata": {
    "collapsed": false
   }
  }
 ],
 "metadata": {
  "kernelspec": {
   "display_name": "Python 3",
   "language": "python",
   "name": "python3"
  },
  "language_info": {
   "codemirror_mode": {
    "name": "ipython",
    "version": 2
   },
   "file_extension": ".py",
   "mimetype": "text/x-python",
   "name": "python",
   "nbconvert_exporter": "python",
   "pygments_lexer": "ipython2",
   "version": "2.7.6"
  }
 },
 "nbformat": 4,
 "nbformat_minor": 0
}
