{
 "cells": [
  {
   "cell_type": "markdown",
   "metadata": {},
   "source": [
    "In this problem we are given a Excel file with data about diabetes patients\n",
    "Aim:\n",
    "•\tIdentify patients on path to high-cost disease state\n",
    "•\tAssign patient scores based on the severity of condition\n",
    "•\tSeggregate patients for 2 possible care paths\n",
    "        Care Intervention\n",
    "        Lower cost of care\n",
    "\n",
    "Tasks:\n",
    "1.\tCleanse the data removing blank rows\n",
    "2.\tHandle the outliers and missing data\n",
    "3.\tImplement EDA and determine quality of data and is the data sufficient to achieve any of the above objective\n",
    "4.\tImplement properly the categorical data with proper encoding\n",
    "5.\tImplement proper feature engineering\n",
    "6.\tUse the proper ML algorithm for training the model and data predictions. Leverage supervised or unsupervised algorithms based on the given dataset\n",
    "\n",
    "The input dataset is uploaded in below link\n",
    "https://usecasedata1.blob.core.windows.net/diabetesdc/diabetes_data.xlsx\n",
    "\n",
    "Expected output:\n",
    "Categorize patient data based on diabetes severity level(high, medium, low)\n",
    "\n",
    "\n"
   ]
  },
  {
   "cell_type": "code",
   "execution_count": 2,
   "metadata": {},
   "outputs": [],
   "source": [
    "# Importing the required library's\n",
    "import numpy as np\n",
    "import pandas as pd\n",
    "import matplotlib.pyplot as plt\n",
    "from sklearn.model_selection import train_test_split\n",
    "from sklearn.preprocessing import StandardScaler, LabelEncoder\n",
    "from sklearn.ensemble import RandomForestClassifier\n",
    "from sklearn.metrics import classification_report\n",
    "import seaborn as sns\n",
    "%matplotlib inline\n"
   ]
  },
  {
   "cell_type": "code",
   "execution_count": 3,
   "metadata": {},
   "outputs": [
    {
     "data": {
      "text/plain": "   id  encounter_id  patient_nbr             race  gender      age weight  \\\n0   1       2278392      8222157        Caucasian  Female   [0-10)      ?   \n1   2        149190     55629189        Caucasian  Female  [10-20)      ?   \n2   3         64410     86047875  AfricanAmerican  Female  [20-30)      ?   \n3   4        500364     82442376        Caucasian    Male  [30-40)      ?   \n4   5         16680     42519267        Caucasian    Male  [40-50)      ?   \n\n   admission_type_id  discharge_disposition_id  admission_source_id  ...  \\\n0                  6                        25                    1  ...   \n1                  1                         1                    7  ...   \n2                  1                         1                    7  ...   \n3                  1                         1                    7  ...   \n4                  1                         1                    7  ...   \n\n   citoglipton insulin glyburide.metformin  glipizide.metformin  \\\n0           No      No                  No                   No   \n1           No      Up                  No                   No   \n2           No      No                  No                   No   \n3           No      Up                  No                   No   \n4           No  Steady                  No                   No   \n\n   glimepiride.pioglitazone  metformin.rosiglitazone  metformin.pioglitazone  \\\n0                        No                       No                      No   \n1                        No                       No                      No   \n2                        No                       No                      No   \n3                        No                       No                      No   \n4                        No                       No                      No   \n\n   change  diabetesMed readmitted  \n0      No           No         NO  \n1      Ch          Yes        >30  \n2      No          Yes         NO  \n3      Ch          Yes         NO  \n4      Ch          Yes         NO  \n\n[5 rows x 51 columns]",
      "text/html": "<div>\n<style scoped>\n    .dataframe tbody tr th:only-of-type {\n        vertical-align: middle;\n    }\n\n    .dataframe tbody tr th {\n        vertical-align: top;\n    }\n\n    .dataframe thead th {\n        text-align: right;\n    }\n</style>\n<table border=\"1\" class=\"dataframe\">\n  <thead>\n    <tr style=\"text-align: right;\">\n      <th></th>\n      <th>id</th>\n      <th>encounter_id</th>\n      <th>patient_nbr</th>\n      <th>race</th>\n      <th>gender</th>\n      <th>age</th>\n      <th>weight</th>\n      <th>admission_type_id</th>\n      <th>discharge_disposition_id</th>\n      <th>admission_source_id</th>\n      <th>...</th>\n      <th>citoglipton</th>\n      <th>insulin</th>\n      <th>glyburide.metformin</th>\n      <th>glipizide.metformin</th>\n      <th>glimepiride.pioglitazone</th>\n      <th>metformin.rosiglitazone</th>\n      <th>metformin.pioglitazone</th>\n      <th>change</th>\n      <th>diabetesMed</th>\n      <th>readmitted</th>\n    </tr>\n  </thead>\n  <tbody>\n    <tr>\n      <th>0</th>\n      <td>1</td>\n      <td>2278392</td>\n      <td>8222157</td>\n      <td>Caucasian</td>\n      <td>Female</td>\n      <td>[0-10)</td>\n      <td>?</td>\n      <td>6</td>\n      <td>25</td>\n      <td>1</td>\n      <td>...</td>\n      <td>No</td>\n      <td>No</td>\n      <td>No</td>\n      <td>No</td>\n      <td>No</td>\n      <td>No</td>\n      <td>No</td>\n      <td>No</td>\n      <td>No</td>\n      <td>NO</td>\n    </tr>\n    <tr>\n      <th>1</th>\n      <td>2</td>\n      <td>149190</td>\n      <td>55629189</td>\n      <td>Caucasian</td>\n      <td>Female</td>\n      <td>[10-20)</td>\n      <td>?</td>\n      <td>1</td>\n      <td>1</td>\n      <td>7</td>\n      <td>...</td>\n      <td>No</td>\n      <td>Up</td>\n      <td>No</td>\n      <td>No</td>\n      <td>No</td>\n      <td>No</td>\n      <td>No</td>\n      <td>Ch</td>\n      <td>Yes</td>\n      <td>&gt;30</td>\n    </tr>\n    <tr>\n      <th>2</th>\n      <td>3</td>\n      <td>64410</td>\n      <td>86047875</td>\n      <td>AfricanAmerican</td>\n      <td>Female</td>\n      <td>[20-30)</td>\n      <td>?</td>\n      <td>1</td>\n      <td>1</td>\n      <td>7</td>\n      <td>...</td>\n      <td>No</td>\n      <td>No</td>\n      <td>No</td>\n      <td>No</td>\n      <td>No</td>\n      <td>No</td>\n      <td>No</td>\n      <td>No</td>\n      <td>Yes</td>\n      <td>NO</td>\n    </tr>\n    <tr>\n      <th>3</th>\n      <td>4</td>\n      <td>500364</td>\n      <td>82442376</td>\n      <td>Caucasian</td>\n      <td>Male</td>\n      <td>[30-40)</td>\n      <td>?</td>\n      <td>1</td>\n      <td>1</td>\n      <td>7</td>\n      <td>...</td>\n      <td>No</td>\n      <td>Up</td>\n      <td>No</td>\n      <td>No</td>\n      <td>No</td>\n      <td>No</td>\n      <td>No</td>\n      <td>Ch</td>\n      <td>Yes</td>\n      <td>NO</td>\n    </tr>\n    <tr>\n      <th>4</th>\n      <td>5</td>\n      <td>16680</td>\n      <td>42519267</td>\n      <td>Caucasian</td>\n      <td>Male</td>\n      <td>[40-50)</td>\n      <td>?</td>\n      <td>1</td>\n      <td>1</td>\n      <td>7</td>\n      <td>...</td>\n      <td>No</td>\n      <td>Steady</td>\n      <td>No</td>\n      <td>No</td>\n      <td>No</td>\n      <td>No</td>\n      <td>No</td>\n      <td>Ch</td>\n      <td>Yes</td>\n      <td>NO</td>\n    </tr>\n  </tbody>\n</table>\n<p>5 rows × 51 columns</p>\n</div>"
     },
     "metadata": {},
     "output_type": "display_data"
    },
    {
     "data": {
      "text/plain": "            id  encounter_id  patient_nbr             race  gender      age  \\\n0            1       2278392      8222157        Caucasian  Female   [0-10)   \n1            2        149190     55629189        Caucasian  Female  [10-20)   \n2            3         64410     86047875  AfricanAmerican  Female  [20-30)   \n3            4        500364     82442376        Caucasian    Male  [30-40)   \n4            5         16680     42519267        Caucasian    Male  [40-50)   \n...        ...           ...          ...              ...     ...      ...   \n101761  101762     443847548    100162476  AfricanAmerican    Male  [70-80)   \n101762  101763     443847782     74694222  AfricanAmerican  Female  [80-90)   \n101763  101764     443854148     41088789        Caucasian    Male  [70-80)   \n101764  101765     443857166     31693671        Caucasian  Female  [80-90)   \n101765  101766     443867222    175429310        Caucasian    Male  [70-80)   \n\n       weight  admission_type_id  discharge_disposition_id  \\\n0           ?                  6                        25   \n1           ?                  1                         1   \n2           ?                  1                         1   \n3           ?                  1                         1   \n4           ?                  1                         1   \n...       ...                ...                       ...   \n101761      ?                  1                         3   \n101762      ?                  1                         4   \n101763      ?                  1                         1   \n101764      ?                  2                         3   \n101765      ?                  1                         1   \n\n        admission_source_id  ...  citoglipton insulin glyburide.metformin  \\\n0                         1  ...           No      No                  No   \n1                         7  ...           No      Up                  No   \n2                         7  ...           No      No                  No   \n3                         7  ...           No      Up                  No   \n4                         7  ...           No  Steady                  No   \n...                     ...  ...          ...     ...                 ...   \n101761                    7  ...           No    Down                  No   \n101762                    5  ...           No  Steady                  No   \n101763                    7  ...           No    Down                  No   \n101764                    7  ...           No      Up                  No   \n101765                    7  ...           No      No                  No   \n\n        glipizide.metformin  glimepiride.pioglitazone  \\\n0                        No                        No   \n1                        No                        No   \n2                        No                        No   \n3                        No                        No   \n4                        No                        No   \n...                     ...                       ...   \n101761                   No                        No   \n101762                   No                        No   \n101763                   No                        No   \n101764                   No                        No   \n101765                   No                        No   \n\n        metformin.rosiglitazone  metformin.pioglitazone  change  diabetesMed  \\\n0                            No                      No      No           No   \n1                            No                      No      Ch          Yes   \n2                            No                      No      No          Yes   \n3                            No                      No      Ch          Yes   \n4                            No                      No      Ch          Yes   \n...                         ...                     ...     ...          ...   \n101761                       No                      No      Ch          Yes   \n101762                       No                      No      No          Yes   \n101763                       No                      No      Ch          Yes   \n101764                       No                      No      Ch          Yes   \n101765                       No                      No      No           No   \n\n       readmitted  \n0              NO  \n1             >30  \n2              NO  \n3              NO  \n4              NO  \n...           ...  \n101761        >30  \n101762         NO  \n101763         NO  \n101764         NO  \n101765         NO  \n\n[101766 rows x 51 columns]",
      "text/html": "<div>\n<style scoped>\n    .dataframe tbody tr th:only-of-type {\n        vertical-align: middle;\n    }\n\n    .dataframe tbody tr th {\n        vertical-align: top;\n    }\n\n    .dataframe thead th {\n        text-align: right;\n    }\n</style>\n<table border=\"1\" class=\"dataframe\">\n  <thead>\n    <tr style=\"text-align: right;\">\n      <th></th>\n      <th>id</th>\n      <th>encounter_id</th>\n      <th>patient_nbr</th>\n      <th>race</th>\n      <th>gender</th>\n      <th>age</th>\n      <th>weight</th>\n      <th>admission_type_id</th>\n      <th>discharge_disposition_id</th>\n      <th>admission_source_id</th>\n      <th>...</th>\n      <th>citoglipton</th>\n      <th>insulin</th>\n      <th>glyburide.metformin</th>\n      <th>glipizide.metformin</th>\n      <th>glimepiride.pioglitazone</th>\n      <th>metformin.rosiglitazone</th>\n      <th>metformin.pioglitazone</th>\n      <th>change</th>\n      <th>diabetesMed</th>\n      <th>readmitted</th>\n    </tr>\n  </thead>\n  <tbody>\n    <tr>\n      <th>0</th>\n      <td>1</td>\n      <td>2278392</td>\n      <td>8222157</td>\n      <td>Caucasian</td>\n      <td>Female</td>\n      <td>[0-10)</td>\n      <td>?</td>\n      <td>6</td>\n      <td>25</td>\n      <td>1</td>\n      <td>...</td>\n      <td>No</td>\n      <td>No</td>\n      <td>No</td>\n      <td>No</td>\n      <td>No</td>\n      <td>No</td>\n      <td>No</td>\n      <td>No</td>\n      <td>No</td>\n      <td>NO</td>\n    </tr>\n    <tr>\n      <th>1</th>\n      <td>2</td>\n      <td>149190</td>\n      <td>55629189</td>\n      <td>Caucasian</td>\n      <td>Female</td>\n      <td>[10-20)</td>\n      <td>?</td>\n      <td>1</td>\n      <td>1</td>\n      <td>7</td>\n      <td>...</td>\n      <td>No</td>\n      <td>Up</td>\n      <td>No</td>\n      <td>No</td>\n      <td>No</td>\n      <td>No</td>\n      <td>No</td>\n      <td>Ch</td>\n      <td>Yes</td>\n      <td>&gt;30</td>\n    </tr>\n    <tr>\n      <th>2</th>\n      <td>3</td>\n      <td>64410</td>\n      <td>86047875</td>\n      <td>AfricanAmerican</td>\n      <td>Female</td>\n      <td>[20-30)</td>\n      <td>?</td>\n      <td>1</td>\n      <td>1</td>\n      <td>7</td>\n      <td>...</td>\n      <td>No</td>\n      <td>No</td>\n      <td>No</td>\n      <td>No</td>\n      <td>No</td>\n      <td>No</td>\n      <td>No</td>\n      <td>No</td>\n      <td>Yes</td>\n      <td>NO</td>\n    </tr>\n    <tr>\n      <th>3</th>\n      <td>4</td>\n      <td>500364</td>\n      <td>82442376</td>\n      <td>Caucasian</td>\n      <td>Male</td>\n      <td>[30-40)</td>\n      <td>?</td>\n      <td>1</td>\n      <td>1</td>\n      <td>7</td>\n      <td>...</td>\n      <td>No</td>\n      <td>Up</td>\n      <td>No</td>\n      <td>No</td>\n      <td>No</td>\n      <td>No</td>\n      <td>No</td>\n      <td>Ch</td>\n      <td>Yes</td>\n      <td>NO</td>\n    </tr>\n    <tr>\n      <th>4</th>\n      <td>5</td>\n      <td>16680</td>\n      <td>42519267</td>\n      <td>Caucasian</td>\n      <td>Male</td>\n      <td>[40-50)</td>\n      <td>?</td>\n      <td>1</td>\n      <td>1</td>\n      <td>7</td>\n      <td>...</td>\n      <td>No</td>\n      <td>Steady</td>\n      <td>No</td>\n      <td>No</td>\n      <td>No</td>\n      <td>No</td>\n      <td>No</td>\n      <td>Ch</td>\n      <td>Yes</td>\n      <td>NO</td>\n    </tr>\n    <tr>\n      <th>...</th>\n      <td>...</td>\n      <td>...</td>\n      <td>...</td>\n      <td>...</td>\n      <td>...</td>\n      <td>...</td>\n      <td>...</td>\n      <td>...</td>\n      <td>...</td>\n      <td>...</td>\n      <td>...</td>\n      <td>...</td>\n      <td>...</td>\n      <td>...</td>\n      <td>...</td>\n      <td>...</td>\n      <td>...</td>\n      <td>...</td>\n      <td>...</td>\n      <td>...</td>\n      <td>...</td>\n    </tr>\n    <tr>\n      <th>101761</th>\n      <td>101762</td>\n      <td>443847548</td>\n      <td>100162476</td>\n      <td>AfricanAmerican</td>\n      <td>Male</td>\n      <td>[70-80)</td>\n      <td>?</td>\n      <td>1</td>\n      <td>3</td>\n      <td>7</td>\n      <td>...</td>\n      <td>No</td>\n      <td>Down</td>\n      <td>No</td>\n      <td>No</td>\n      <td>No</td>\n      <td>No</td>\n      <td>No</td>\n      <td>Ch</td>\n      <td>Yes</td>\n      <td>&gt;30</td>\n    </tr>\n    <tr>\n      <th>101762</th>\n      <td>101763</td>\n      <td>443847782</td>\n      <td>74694222</td>\n      <td>AfricanAmerican</td>\n      <td>Female</td>\n      <td>[80-90)</td>\n      <td>?</td>\n      <td>1</td>\n      <td>4</td>\n      <td>5</td>\n      <td>...</td>\n      <td>No</td>\n      <td>Steady</td>\n      <td>No</td>\n      <td>No</td>\n      <td>No</td>\n      <td>No</td>\n      <td>No</td>\n      <td>No</td>\n      <td>Yes</td>\n      <td>NO</td>\n    </tr>\n    <tr>\n      <th>101763</th>\n      <td>101764</td>\n      <td>443854148</td>\n      <td>41088789</td>\n      <td>Caucasian</td>\n      <td>Male</td>\n      <td>[70-80)</td>\n      <td>?</td>\n      <td>1</td>\n      <td>1</td>\n      <td>7</td>\n      <td>...</td>\n      <td>No</td>\n      <td>Down</td>\n      <td>No</td>\n      <td>No</td>\n      <td>No</td>\n      <td>No</td>\n      <td>No</td>\n      <td>Ch</td>\n      <td>Yes</td>\n      <td>NO</td>\n    </tr>\n    <tr>\n      <th>101764</th>\n      <td>101765</td>\n      <td>443857166</td>\n      <td>31693671</td>\n      <td>Caucasian</td>\n      <td>Female</td>\n      <td>[80-90)</td>\n      <td>?</td>\n      <td>2</td>\n      <td>3</td>\n      <td>7</td>\n      <td>...</td>\n      <td>No</td>\n      <td>Up</td>\n      <td>No</td>\n      <td>No</td>\n      <td>No</td>\n      <td>No</td>\n      <td>No</td>\n      <td>Ch</td>\n      <td>Yes</td>\n      <td>NO</td>\n    </tr>\n    <tr>\n      <th>101765</th>\n      <td>101766</td>\n      <td>443867222</td>\n      <td>175429310</td>\n      <td>Caucasian</td>\n      <td>Male</td>\n      <td>[70-80)</td>\n      <td>?</td>\n      <td>1</td>\n      <td>1</td>\n      <td>7</td>\n      <td>...</td>\n      <td>No</td>\n      <td>No</td>\n      <td>No</td>\n      <td>No</td>\n      <td>No</td>\n      <td>No</td>\n      <td>No</td>\n      <td>No</td>\n      <td>No</td>\n      <td>NO</td>\n    </tr>\n  </tbody>\n</table>\n<p>101766 rows × 51 columns</p>\n</div>"
     },
     "execution_count": 3,
     "metadata": {},
     "output_type": "execute_result"
    }
   ],
   "source": [
    "df=pd.read_excel(\"diabetes_data.xlsx\")\n",
    "display(df.head())"
   ]
  },
  {
   "cell_type": "code",
   "execution_count": 4,
   "metadata": {},
   "outputs": [
    {
     "name": "stdout",
     "output_type": "stream",
     "text": [
      "<class 'pandas.core.frame.DataFrame'>\n",
      "RangeIndex: 101766 entries, 0 to 101765\n",
      "Data columns (total 51 columns):\n",
      " #   Column                    Non-Null Count   Dtype \n",
      "---  ------                    --------------   ----- \n",
      " 0   id                        101766 non-null  int64 \n",
      " 1   encounter_id              101766 non-null  int64 \n",
      " 2   patient_nbr               101766 non-null  int64 \n",
      " 3   race                      101766 non-null  object\n",
      " 4   gender                    101766 non-null  object\n",
      " 5   age                       101766 non-null  object\n",
      " 6   weight                    101766 non-null  object\n",
      " 7   admission_type_id         101766 non-null  int64 \n",
      " 8   discharge_disposition_id  101766 non-null  int64 \n",
      " 9   admission_source_id       101766 non-null  int64 \n",
      " 10  time_in_hospital          101766 non-null  int64 \n",
      " 11  payer_code                101766 non-null  object\n",
      " 12  medical_specialty         101766 non-null  object\n",
      " 13  num_lab_procedures        101766 non-null  int64 \n",
      " 14  num_procedures            101766 non-null  int64 \n",
      " 15  num_medications           101766 non-null  int64 \n",
      " 16  number_outpatient         101766 non-null  int64 \n",
      " 17  number_emergency          101766 non-null  int64 \n",
      " 18  number_inpatient          101766 non-null  int64 \n",
      " 19  diag_1                    101766 non-null  object\n",
      " 20  diag_2                    101766 non-null  object\n",
      " 21  diag_3                    101766 non-null  object\n",
      " 22  number_diagnoses          101766 non-null  int64 \n",
      " 23  max_glu_serum             101766 non-null  object\n",
      " 24  A1Cresult                 101766 non-null  object\n",
      " 25  metformin                 101766 non-null  object\n",
      " 26  repaglinide               101766 non-null  object\n",
      " 27  nateglinide               101766 non-null  object\n",
      " 28  chlorpropamide            101766 non-null  object\n",
      " 29  glimepiride               101766 non-null  object\n",
      " 30  acetohexamide             101766 non-null  object\n",
      " 31  glipizide                 101766 non-null  object\n",
      " 32  glyburide                 101766 non-null  object\n",
      " 33  tolbutamide               101766 non-null  object\n",
      " 34  pioglitazone              101766 non-null  object\n",
      " 35  rosiglitazone             101766 non-null  object\n",
      " 36  acarbose                  101766 non-null  object\n",
      " 37  miglitol                  101766 non-null  object\n",
      " 38  troglitazone              101766 non-null  object\n",
      " 39  tolazamide                101766 non-null  object\n",
      " 40  examide                   101766 non-null  object\n",
      " 41  citoglipton               101766 non-null  object\n",
      " 42  insulin                   101766 non-null  object\n",
      " 43  glyburide.metformin       101766 non-null  object\n",
      " 44  glipizide.metformin       101766 non-null  object\n",
      " 45  glimepiride.pioglitazone  101766 non-null  object\n",
      " 46  metformin.rosiglitazone   101766 non-null  object\n",
      " 47  metformin.pioglitazone    101766 non-null  object\n",
      " 48  change                    101766 non-null  object\n",
      " 49  diabetesMed               101766 non-null  object\n",
      " 50  readmitted                101766 non-null  object\n",
      "dtypes: int64(14), object(37)\n",
      "memory usage: 39.6+ MB\n"
     ]
    },
    {
     "data": {
      "text/plain": "None"
     },
     "metadata": {},
     "output_type": "display_data"
    }
   ],
   "source": [
    "display(df.info())\n"
   ]
  },
  {
   "cell_type": "code",
   "execution_count": 5,
   "metadata": {},
   "outputs": [
    {
     "data": {
      "text/plain": "                  id  encounter_id   patient_nbr  admission_type_id  \\\ncount  101766.000000  1.017660e+05  1.017660e+05      101766.000000   \nmean    50883.500000  1.652016e+08  5.433040e+07           2.024006   \nstd     29377.458084  1.026403e+08  3.869636e+07           1.445403   \nmin         1.000000  1.252200e+04  1.350000e+02           1.000000   \n25%     25442.250000  8.496119e+07  2.341322e+07           1.000000   \n50%     50883.500000  1.523890e+08  4.550514e+07           1.000000   \n75%     76324.750000  2.302709e+08  8.754595e+07           3.000000   \nmax    101766.000000  4.438672e+08  1.895026e+08           8.000000   \n\n       discharge_disposition_id  admission_source_id  time_in_hospital  \\\ncount             101766.000000        101766.000000     101766.000000   \nmean                   3.715642             5.754437          4.395987   \nstd                    5.280166             4.064081          2.985108   \nmin                    1.000000             1.000000          1.000000   \n25%                    1.000000             1.000000          2.000000   \n50%                    1.000000             7.000000          4.000000   \n75%                    4.000000             7.000000          6.000000   \nmax                   28.000000            25.000000         14.000000   \n\n       num_lab_procedures  num_procedures  num_medications  number_outpatient  \\\ncount       101766.000000   101766.000000    101766.000000      101766.000000   \nmean            43.095641        1.339730        16.021844           0.369357   \nstd             19.674362        1.705807         8.127566           1.267265   \nmin              1.000000        0.000000         1.000000           0.000000   \n25%             31.000000        0.000000        10.000000           0.000000   \n50%             44.000000        1.000000        15.000000           0.000000   \n75%             57.000000        2.000000        20.000000           0.000000   \nmax            132.000000        6.000000        81.000000          42.000000   \n\n       number_emergency  number_inpatient  number_diagnoses  \ncount     101766.000000     101766.000000     101766.000000  \nmean           0.197836          0.635566          7.422607  \nstd            0.930472          1.262863          1.933600  \nmin            0.000000          0.000000          1.000000  \n25%            0.000000          0.000000          6.000000  \n50%            0.000000          0.000000          8.000000  \n75%            0.000000          1.000000          9.000000  \nmax           76.000000         21.000000         16.000000  ",
      "text/html": "<div>\n<style scoped>\n    .dataframe tbody tr th:only-of-type {\n        vertical-align: middle;\n    }\n\n    .dataframe tbody tr th {\n        vertical-align: top;\n    }\n\n    .dataframe thead th {\n        text-align: right;\n    }\n</style>\n<table border=\"1\" class=\"dataframe\">\n  <thead>\n    <tr style=\"text-align: right;\">\n      <th></th>\n      <th>id</th>\n      <th>encounter_id</th>\n      <th>patient_nbr</th>\n      <th>admission_type_id</th>\n      <th>discharge_disposition_id</th>\n      <th>admission_source_id</th>\n      <th>time_in_hospital</th>\n      <th>num_lab_procedures</th>\n      <th>num_procedures</th>\n      <th>num_medications</th>\n      <th>number_outpatient</th>\n      <th>number_emergency</th>\n      <th>number_inpatient</th>\n      <th>number_diagnoses</th>\n    </tr>\n  </thead>\n  <tbody>\n    <tr>\n      <th>count</th>\n      <td>101766.000000</td>\n      <td>1.017660e+05</td>\n      <td>1.017660e+05</td>\n      <td>101766.000000</td>\n      <td>101766.000000</td>\n      <td>101766.000000</td>\n      <td>101766.000000</td>\n      <td>101766.000000</td>\n      <td>101766.000000</td>\n      <td>101766.000000</td>\n      <td>101766.000000</td>\n      <td>101766.000000</td>\n      <td>101766.000000</td>\n      <td>101766.000000</td>\n    </tr>\n    <tr>\n      <th>mean</th>\n      <td>50883.500000</td>\n      <td>1.652016e+08</td>\n      <td>5.433040e+07</td>\n      <td>2.024006</td>\n      <td>3.715642</td>\n      <td>5.754437</td>\n      <td>4.395987</td>\n      <td>43.095641</td>\n      <td>1.339730</td>\n      <td>16.021844</td>\n      <td>0.369357</td>\n      <td>0.197836</td>\n      <td>0.635566</td>\n      <td>7.422607</td>\n    </tr>\n    <tr>\n      <th>std</th>\n      <td>29377.458084</td>\n      <td>1.026403e+08</td>\n      <td>3.869636e+07</td>\n      <td>1.445403</td>\n      <td>5.280166</td>\n      <td>4.064081</td>\n      <td>2.985108</td>\n      <td>19.674362</td>\n      <td>1.705807</td>\n      <td>8.127566</td>\n      <td>1.267265</td>\n      <td>0.930472</td>\n      <td>1.262863</td>\n      <td>1.933600</td>\n    </tr>\n    <tr>\n      <th>min</th>\n      <td>1.000000</td>\n      <td>1.252200e+04</td>\n      <td>1.350000e+02</td>\n      <td>1.000000</td>\n      <td>1.000000</td>\n      <td>1.000000</td>\n      <td>1.000000</td>\n      <td>1.000000</td>\n      <td>0.000000</td>\n      <td>1.000000</td>\n      <td>0.000000</td>\n      <td>0.000000</td>\n      <td>0.000000</td>\n      <td>1.000000</td>\n    </tr>\n    <tr>\n      <th>25%</th>\n      <td>25442.250000</td>\n      <td>8.496119e+07</td>\n      <td>2.341322e+07</td>\n      <td>1.000000</td>\n      <td>1.000000</td>\n      <td>1.000000</td>\n      <td>2.000000</td>\n      <td>31.000000</td>\n      <td>0.000000</td>\n      <td>10.000000</td>\n      <td>0.000000</td>\n      <td>0.000000</td>\n      <td>0.000000</td>\n      <td>6.000000</td>\n    </tr>\n    <tr>\n      <th>50%</th>\n      <td>50883.500000</td>\n      <td>1.523890e+08</td>\n      <td>4.550514e+07</td>\n      <td>1.000000</td>\n      <td>1.000000</td>\n      <td>7.000000</td>\n      <td>4.000000</td>\n      <td>44.000000</td>\n      <td>1.000000</td>\n      <td>15.000000</td>\n      <td>0.000000</td>\n      <td>0.000000</td>\n      <td>0.000000</td>\n      <td>8.000000</td>\n    </tr>\n    <tr>\n      <th>75%</th>\n      <td>76324.750000</td>\n      <td>2.302709e+08</td>\n      <td>8.754595e+07</td>\n      <td>3.000000</td>\n      <td>4.000000</td>\n      <td>7.000000</td>\n      <td>6.000000</td>\n      <td>57.000000</td>\n      <td>2.000000</td>\n      <td>20.000000</td>\n      <td>0.000000</td>\n      <td>0.000000</td>\n      <td>1.000000</td>\n      <td>9.000000</td>\n    </tr>\n    <tr>\n      <th>max</th>\n      <td>101766.000000</td>\n      <td>4.438672e+08</td>\n      <td>1.895026e+08</td>\n      <td>8.000000</td>\n      <td>28.000000</td>\n      <td>25.000000</td>\n      <td>14.000000</td>\n      <td>132.000000</td>\n      <td>6.000000</td>\n      <td>81.000000</td>\n      <td>42.000000</td>\n      <td>76.000000</td>\n      <td>21.000000</td>\n      <td>16.000000</td>\n    </tr>\n  </tbody>\n</table>\n</div>"
     },
     "execution_count": 5,
     "metadata": {},
     "output_type": "execute_result"
    }
   ],
   "source": [
    "(df.describe())"
   ]
  },
  {
   "cell_type": "markdown",
   "metadata": {},
   "source": [
    "The data frame is filled with many features out of which id, encounter_id, patient_nbr are unique and they don't have significance compared to others as they are only identifiers"
   ]
  },
  {
   "cell_type": "code",
   "execution_count": 6,
   "metadata": {},
   "outputs": [
    {
     "data": {
      "text/plain": "<AxesSubplot: ylabel='race'>"
     },
     "execution_count": 6,
     "metadata": {},
     "output_type": "execute_result"
    },
    {
     "data": {
      "text/plain": "<Figure size 1600x600 with 1 Axes>",
      "image/png": "[encoded data removed]"
     },
     "metadata": {},
     "output_type": "display_data"
    }
   ],
   "source": [
    "df=df.drop(columns=[\"id\", \"encounter_id\", \"patient_nbr\"])\n",
    "display(df)\n"
   ]
  },
  {
   "cell_type": "code",
   "execution_count": 7,
   "metadata": {},
   "outputs": [
    {
     "data": {
      "text/plain": "2.2335554114340743"
     },
     "execution_count": 7,
     "metadata": {},
     "output_type": "execute_result"
    }
   ],
   "source": [
    "# Finding the distribution of race\n",
    "df[\"race\"].value_counts().plot.pie(figsize=(16,6),autopct=\"%.2f%%\")"
   ]
  },
  {
   "cell_type": "code",
   "execution_count": 8,
   "metadata": {},
   "outputs": [
    {
     "ename": "SyntaxError",
     "evalue": "invalid syntax (250647484.py, line 1)",
     "output_type": "error",
     "traceback": [
      "\u001B[0;36m  Cell \u001B[0;32mIn[8], line 1\u001B[0;36m\u001B[0m\n\u001B[0;31m    The null value percent  is equal to the one the above pie chart and seeing the distribution droping will give better results\u001B[0m\n\u001B[0m        ^\u001B[0m\n\u001B[0;31mSyntaxError\u001B[0m\u001B[0;31m:\u001B[0m invalid syntax\n"
     ]
    }
   ],
   "source": [
    "df[\"race\"]=df[\"race\"].replace(\"?\",np.nan)\n",
    "df[\"race\"].isna().sum()*100/df.shape[0]\n"
   ]
  },
  {
   "cell_type": "markdown",
   "metadata": {},
   "source": [
    "The null value percent  is equal to the one the above pie chart and seeing the distribution droping will give better results"
   ]
  },
  {
   "cell_type": "code",
   "execution_count": 9,
   "metadata": {},
   "outputs": [
    {
     "data": {
      "text/plain": "<Figure size 640x480 with 1 Axes>",
      "image/png": "[encoded data removed]"
     },
     "metadata": {},
     "output_type": "display_data"
    },
    {
     "data": {
      "text/plain": "Female             54708\nMale               47055\nUnknown/Invalid        3\nName: gender, dtype: int64"
     },
     "execution_count": 9,
     "metadata": {},
     "output_type": "execute_result"
    }
   ],
   "source": [
    "df=df.dropna()\n",
    "df[\"race\"].value_counts().plot.pie(figsize=(16,6),autopct=\"%.2f%%\")\n"
   ]
  },
  {
   "cell_type": "code",
   "execution_count": 10,
   "metadata": {},
   "outputs": [
    {
     "ename": "SyntaxError",
     "evalue": "invalid syntax (1471833094.py, line 1)",
     "output_type": "error",
     "traceback": [
      "\u001B[0;36m  Cell \u001B[0;32mIn[10], line 1\u001B[0;36m\u001B[0m\n\u001B[0;31m    There is only one value without gender so it can be removed\u001B[0m\n\u001B[0m                  ^\u001B[0m\n\u001B[0;31mSyntaxError\u001B[0m\u001B[0;31m:\u001B[0m invalid syntax\n"
     ]
    }
   ],
   "source": [
    "# Finding the distribution of gender\n",
    "df[\"gender\"].hist()\n",
    "plt.ylabel(\"count\")\n",
    "plt.show()\n",
    "df[\"gender\"].value_counts()"
   ]
  },
  {
   "cell_type": "markdown",
   "metadata": {},
   "source": [
    "There is only one value without gender so it can be removed"
   ]
  },
  {
   "cell_type": "code",
   "execution_count": 11,
   "metadata": {},
   "outputs": [],
   "source": [
    "df[\"gender\"] = df[\"gender\"].replace(\"Unknown/Invalid\", np.nan)\n",
    "df=df.dropna()\n",
    "df[\"gender\"].hist()\n",
    "plt.ylabel(\"count\")\n",
    "plt.show()\n",
    "df[\"gender\"].value_counts()"
   ]
  },
  {
   "cell_type": "code",
   "execution_count": 12,
   "metadata": {},
   "outputs": [
    {
     "data": {
      "text/plain": "<Figure size 640x480 with 1 Axes>",
      "image/png": "[encoded data removed]"
     },
     "metadata": {},
     "output_type": "display_data"
    },
    {
     "name": "stdout",
     "output_type": "stream",
     "text": [
      "0          [0-10)\n",
      "1         [10-20)\n",
      "2         [20-30)\n",
      "3         [30-40)\n",
      "4         [40-50)\n",
      "           ...   \n",
      "101761    [70-80)\n",
      "101762    [80-90)\n",
      "101763    [70-80)\n",
      "101764    [80-90)\n",
      "101765    [70-80)\n",
      "Name: age, Length: 101766, dtype: object\n"
     ]
    }
   ],
   "source": [
    "# Encoding the gender values\n",
    "\n",
    "df['gender'] = df['gender'].replace({'Female' : 0, 'Male' : 1})"
   ]
  },
  {
   "cell_type": "code",
   "execution_count": 13,
   "metadata": {},
   "outputs": [
    {
     "ename": "SyntaxError",
     "evalue": "invalid syntax (427311144.py, line 1)",
     "output_type": "error",
     "traceback": [
      "\u001B[0;36m  Cell \u001B[0;32mIn[13], line 1\u001B[0;36m\u001B[0m\n\u001B[0;31m    Encoding the age data as 0-10, 10-22.... is a string and need to be converted to single numerical value for each category\u001B[0m\n\u001B[0m             ^\u001B[0m\n\u001B[0;31mSyntaxError\u001B[0m\u001B[0;31m:\u001B[0m invalid syntax\n"
     ]
    }
   ],
   "source": [
    "# Checking the age category distribution\n",
    "df[\"age\"].value_counts().plot(kind=\"bar\")\n",
    "plt.ylabel(\"count\")\n",
    "plt.show()\n",
    "print(df[\"age\"])"
   ]
  },
  {
   "cell_type": "markdown",
   "metadata": {},
   "source": [
    "Encoding the age data as 0-10, 10-22.... is a string and need to be converted to single numerical value for each category\n"
   ]
  },
  {
   "cell_type": "code",
   "execution_count": 14,
   "metadata": {
    "scrolled": true
   },
   "outputs": [
    {
     "data": {
      "text/plain": "None    84748\n>8       8216\nNorm     4990\n>7       3812\nName: A1Cresult, dtype: int64"
     },
     "metadata": {},
     "output_type": "display_data"
    }
   ],
   "source": [
    "\n",
    "df[\"age\"] = df[\"age\"].map({\"[90-100)\":95,\n",
    "                           \"[80-90)\": 85,\n",
    "                           \"[70-80)\": 75,\n",
    "                           \"[60-70)\": 65,\n",
    "                           \"[50-60)\": 55,\n",
    "                           \"[40-50)\": 45,\n",
    "                           \"[30-40)\": 35,\n",
    "                           \"[20-30)\": 25,\n",
    "                           \"[10-20)\": 15,\n",
    "                           \"[0-10)\": 5})\n",
    "df[\"age\"].value_counts().plot(kind=\"bar\")\n",
    "plt.ylabel(\"count\")\n",
    "plt.show()"
   ]
  },
  {
   "cell_type": "code",
   "execution_count": 15,
   "metadata": {
    "scrolled": false
   },
   "outputs": [],
   "source": [
    "display(df[\"A1Cresult\"].value_counts())\n"
   ]
  },
  {
   "cell_type": "code",
   "execution_count": 16,
   "metadata": {},
   "outputs": [],
   "source": [
    "df[\"A1Cresult\"]=df[\"A1Cresult\"].map({\"None\":0,\n",
    "\">8\":3,\n",
    "\"Norm\":1,\n",
    "\">7\":2})"
   ]
  },
  {
   "cell_type": "code",
   "execution_count": 17,
   "metadata": {},
   "outputs": [
    {
     "ename": "TypeError",
     "evalue": "Encoders require their input to be uniformly strings or numbers. Got ['int', 'str']",
     "output_type": "error",
     "traceback": [
      "\u001B[0;31m---------------------------------------------------------------------------\u001B[0m",
      "\u001B[0;31mTypeError\u001B[0m                                 Traceback (most recent call last)",
      "File \u001B[0;32m/Library/Frameworks/Python.framework/Versions/3.10/lib/python3.10/site-packages/sklearn/utils/_encode.py:173\u001B[0m, in \u001B[0;36m_unique_python\u001B[0;34m(values, return_inverse, return_counts)\u001B[0m\n\u001B[1;32m    171\u001B[0m uniques_set, missing_values \u001B[38;5;241m=\u001B[39m _extract_missing(uniques_set)\n\u001B[0;32m--> 173\u001B[0m uniques \u001B[38;5;241m=\u001B[39m \u001B[38;5;28;43msorted\u001B[39;49m\u001B[43m(\u001B[49m\u001B[43muniques_set\u001B[49m\u001B[43m)\u001B[49m\n\u001B[1;32m    174\u001B[0m uniques\u001B[38;5;241m.\u001B[39mextend(missing_values\u001B[38;5;241m.\u001B[39mto_list())\n",
      "\u001B[0;31mTypeError\u001B[0m: '<' not supported between instances of 'str' and 'int'",
      "\nDuring handling of the above exception, another exception occurred:\n",
      "\u001B[0;31mTypeError\u001B[0m                                 Traceback (most recent call last)",
      "Cell \u001B[0;32mIn[17], line 6\u001B[0m\n\u001B[1;32m      4\u001B[0m label_encoder \u001B[38;5;241m=\u001B[39m LabelEncoder()\n\u001B[1;32m      5\u001B[0m \u001B[38;5;28;01mfor\u001B[39;00m feature \u001B[38;5;129;01min\u001B[39;00m categorical_features:\n\u001B[0;32m----> 6\u001B[0m     df[feature] \u001B[38;5;241m=\u001B[39m \u001B[43mlabel_encoder\u001B[49m\u001B[38;5;241;43m.\u001B[39;49m\u001B[43mfit_transform\u001B[49m\u001B[43m(\u001B[49m\u001B[43mdf\u001B[49m\u001B[43m[\u001B[49m\u001B[43mfeature\u001B[49m\u001B[43m]\u001B[49m\u001B[43m)\u001B[49m\n",
      "File \u001B[0;32m/Library/Frameworks/Python.framework/Versions/3.10/lib/python3.10/site-packages/sklearn/preprocessing/_label.py:116\u001B[0m, in \u001B[0;36mLabelEncoder.fit_transform\u001B[0;34m(self, y)\u001B[0m\n\u001B[1;32m    103\u001B[0m \u001B[38;5;250m\u001B[39m\u001B[38;5;124;03m\"\"\"Fit label encoder and return encoded labels.\u001B[39;00m\n\u001B[1;32m    104\u001B[0m \n\u001B[1;32m    105\u001B[0m \u001B[38;5;124;03mParameters\u001B[39;00m\n\u001B[0;32m   (...)\u001B[0m\n\u001B[1;32m    113\u001B[0m \u001B[38;5;124;03m    Encoded labels.\u001B[39;00m\n\u001B[1;32m    114\u001B[0m \u001B[38;5;124;03m\"\"\"\u001B[39;00m\n\u001B[1;32m    115\u001B[0m y \u001B[38;5;241m=\u001B[39m column_or_1d(y, warn\u001B[38;5;241m=\u001B[39m\u001B[38;5;28;01mTrue\u001B[39;00m)\n\u001B[0;32m--> 116\u001B[0m \u001B[38;5;28mself\u001B[39m\u001B[38;5;241m.\u001B[39mclasses_, y \u001B[38;5;241m=\u001B[39m \u001B[43m_unique\u001B[49m\u001B[43m(\u001B[49m\u001B[43my\u001B[49m\u001B[43m,\u001B[49m\u001B[43m \u001B[49m\u001B[43mreturn_inverse\u001B[49m\u001B[38;5;241;43m=\u001B[39;49m\u001B[38;5;28;43;01mTrue\u001B[39;49;00m\u001B[43m)\u001B[49m\n\u001B[1;32m    117\u001B[0m \u001B[38;5;28;01mreturn\u001B[39;00m y\n",
      "File \u001B[0;32m/Library/Frameworks/Python.framework/Versions/3.10/lib/python3.10/site-packages/sklearn/utils/_encode.py:41\u001B[0m, in \u001B[0;36m_unique\u001B[0;34m(values, return_inverse, return_counts)\u001B[0m\n\u001B[1;32m     10\u001B[0m \u001B[38;5;250m\u001B[39m\u001B[38;5;124;03m\"\"\"Helper function to find unique values with support for python objects.\u001B[39;00m\n\u001B[1;32m     11\u001B[0m \n\u001B[1;32m     12\u001B[0m \u001B[38;5;124;03mUses pure python method for object dtype, and numpy method for\u001B[39;00m\n\u001B[0;32m   (...)\u001B[0m\n\u001B[1;32m     38\u001B[0m \u001B[38;5;124;03m    array. Only provided if `return_counts` is True.\u001B[39;00m\n\u001B[1;32m     39\u001B[0m \u001B[38;5;124;03m\"\"\"\u001B[39;00m\n\u001B[1;32m     40\u001B[0m \u001B[38;5;28;01mif\u001B[39;00m values\u001B[38;5;241m.\u001B[39mdtype \u001B[38;5;241m==\u001B[39m \u001B[38;5;28mobject\u001B[39m:\n\u001B[0;32m---> 41\u001B[0m     \u001B[38;5;28;01mreturn\u001B[39;00m \u001B[43m_unique_python\u001B[49m\u001B[43m(\u001B[49m\n\u001B[1;32m     42\u001B[0m \u001B[43m        \u001B[49m\u001B[43mvalues\u001B[49m\u001B[43m,\u001B[49m\u001B[43m \u001B[49m\u001B[43mreturn_inverse\u001B[49m\u001B[38;5;241;43m=\u001B[39;49m\u001B[43mreturn_inverse\u001B[49m\u001B[43m,\u001B[49m\u001B[43m \u001B[49m\u001B[43mreturn_counts\u001B[49m\u001B[38;5;241;43m=\u001B[39;49m\u001B[43mreturn_counts\u001B[49m\n\u001B[1;32m     43\u001B[0m \u001B[43m    \u001B[49m\u001B[43m)\u001B[49m\n\u001B[1;32m     44\u001B[0m \u001B[38;5;66;03m# numerical\u001B[39;00m\n\u001B[1;32m     45\u001B[0m \u001B[38;5;28;01mreturn\u001B[39;00m _unique_np(\n\u001B[1;32m     46\u001B[0m     values, return_inverse\u001B[38;5;241m=\u001B[39mreturn_inverse, return_counts\u001B[38;5;241m=\u001B[39mreturn_counts\n\u001B[1;32m     47\u001B[0m )\n",
      "File \u001B[0;32m/Library/Frameworks/Python.framework/Versions/3.10/lib/python3.10/site-packages/sklearn/utils/_encode.py:178\u001B[0m, in \u001B[0;36m_unique_python\u001B[0;34m(values, return_inverse, return_counts)\u001B[0m\n\u001B[1;32m    176\u001B[0m \u001B[38;5;28;01mexcept\u001B[39;00m \u001B[38;5;167;01mTypeError\u001B[39;00m:\n\u001B[1;32m    177\u001B[0m     types \u001B[38;5;241m=\u001B[39m \u001B[38;5;28msorted\u001B[39m(t\u001B[38;5;241m.\u001B[39m\u001B[38;5;18m__qualname__\u001B[39m \u001B[38;5;28;01mfor\u001B[39;00m t \u001B[38;5;129;01min\u001B[39;00m \u001B[38;5;28mset\u001B[39m(\u001B[38;5;28mtype\u001B[39m(v) \u001B[38;5;28;01mfor\u001B[39;00m v \u001B[38;5;129;01min\u001B[39;00m values))\n\u001B[0;32m--> 178\u001B[0m     \u001B[38;5;28;01mraise\u001B[39;00m \u001B[38;5;167;01mTypeError\u001B[39;00m(\n\u001B[1;32m    179\u001B[0m         \u001B[38;5;124m\"\u001B[39m\u001B[38;5;124mEncoders require their input to be uniformly \u001B[39m\u001B[38;5;124m\"\u001B[39m\n\u001B[1;32m    180\u001B[0m         \u001B[38;5;124mf\u001B[39m\u001B[38;5;124m\"\u001B[39m\u001B[38;5;124mstrings or numbers. Got \u001B[39m\u001B[38;5;132;01m{\u001B[39;00mtypes\u001B[38;5;132;01m}\u001B[39;00m\u001B[38;5;124m\"\u001B[39m\n\u001B[1;32m    181\u001B[0m     )\n\u001B[1;32m    182\u001B[0m ret \u001B[38;5;241m=\u001B[39m (uniques,)\n\u001B[1;32m    184\u001B[0m \u001B[38;5;28;01mif\u001B[39;00m return_inverse:\n",
      "\u001B[0;31mTypeError\u001B[0m: Encoders require their input to be uniformly strings or numbers. Got ['int', 'str']"
     ]
    }
   ],
   "source": [
    "df[\"A1Cresult_present\"]=df[\"A1Cresult\"].map({\"None\":0,\n",
    "\">8\":1,\n",
    "\"Norm\":1,\n",
    "\">7\":1})"
   ]
  },
  {
   "cell_type": "code",
   "execution_count": null,
   "metadata": {},
   "outputs": [],
   "source": [
    "categorical_features = ['race', 'gender', 'age', 'medical_specialty', 'max_glu_serum', 'metformin', 'repaglinide', 'nateglinide', 'chlorpropamide', 'glimepiride', 'acetohexamide', 'glipizide', 'glyburide', 'tolbutamide', 'pioglitazone', 'rosiglitazone', 'acarbose', 'miglitol', 'troglitazone', 'tolazamide', 'insulin', 'glyburide.metformin', 'glipizide.metformin', 'glimepiride.pioglitazone', 'metformin.rosiglitazone', 'metformin.pioglitazone', 'change', 'diabetesMed','readmitted']\n",
    "\n",
    "# Apply label encoding to categorical features\n",
    "label_encoder = LabelEncoder()\n",
    "for feature in categorical_features:\n",
    "    df[feature] = label_encoder.fit_transform(df[feature])\n"
   ]
  },
  {
   "cell_type": "code",
   "execution_count": null,
   "metadata": {},
   "outputs": [],
   "source": [
    "display(df[\"weight\"].value_counts())"
   ]
  },
  {
   "cell_type": "code",
   "execution_count": null,
   "metadata": {},
   "outputs": [],
   "source": [
    "df[\"weight_present\"]=df[\"weight\"].map({\"?\":0,\n",
    "\"[75-100)\":1,\n",
    "\"[50-75)\":1,\n",
    "\"[100-125)\":1,\n",
    "\"[125-150)\":1,\n",
    "\"[25-50)\":1,\n",
    "\"[0-25)\":1,\n",
    "\"[150-175)\":1,\n",
    "\"[175-200)\":1,\n",
    "\">200\":1})"
   ]
  },
  {
   "cell_type": "code",
   "execution_count": null,
   "metadata": {},
   "outputs": [],
   "source": [
    "df[\"weight\"]=df[\"weight\"].map({\"?\":-1,\n",
    "\"[75-100)\":75,\n",
    "\"[50-75)\":50,\n",
    "\"[100-125)\":100,\n",
    "\"[125-150)\":125,\n",
    "\"[25-50)\":25,\n",
    "\"[0-25)\":0,\n",
    "\"[150-175)\":150,\n",
    "\"[175-200)\":175,\n",
    "\">200\":200})"
   ]
  },
  {
   "cell_type": "markdown",
   "metadata": {},
   "source": [
    "The value of the weight is not prescient for the majority of the data its better to drop it than to replace or predict it(P.S:Its is an importtant factor for diabetes prediction but its no good if if we have 0 to none values)\n",
    "There is no values in \"examide\",\"citoglipton\",\"metformin.rosiglitazone\" so droping this as well\n",
    "payer_code is insignificant in terms of the end result"
   ]
  },
  {
   "cell_type": "code",
   "execution_count": 1,
   "metadata": {},
   "outputs": [
    {
     "ename": "NameError",
     "evalue": "name 'df' is not defined",
     "output_type": "error",
     "traceback": [
      "\u001B[0;31m---------------------------------------------------------------------------\u001B[0m",
      "\u001B[0;31mNameError\u001B[0m                                 Traceback (most recent call last)",
      "Cell \u001B[0;32mIn[1], line 1\u001B[0m\n\u001B[0;32m----> 1\u001B[0m df\u001B[38;5;241m=\u001B[39m\u001B[43mdf\u001B[49m\u001B[38;5;241m.\u001B[39mdrop(columns\u001B[38;5;241m=\u001B[39m[\u001B[38;5;124m\"\u001B[39m\u001B[38;5;124mid\u001B[39m\u001B[38;5;124m\"\u001B[39m, \u001B[38;5;124m\"\u001B[39m\u001B[38;5;124mencounter_id\u001B[39m\u001B[38;5;124m\"\u001B[39m, \u001B[38;5;124m\"\u001B[39m\u001B[38;5;124mpatient_nbr\u001B[39m\u001B[38;5;124m\"\u001B[39m,\u001B[38;5;124m\"\u001B[39m\u001B[38;5;124mexamide\u001B[39m\u001B[38;5;124m\"\u001B[39m,\u001B[38;5;124m\"\u001B[39m\u001B[38;5;124mcitoglipton\u001B[39m\u001B[38;5;124m\"\u001B[39m,\u001B[38;5;124m\"\u001B[39m\u001B[38;5;124mpayer_code\u001B[39m\u001B[38;5;124m\"\u001B[39m,\u001B[38;5;124m\"\u001B[39m\u001B[38;5;124mmetformin.rosiglitazone\u001B[39m\u001B[38;5;124m\"\u001B[39m,\u001B[38;5;124m\"\u001B[39m\u001B[38;5;124madmission_type_id\u001B[39m\u001B[38;5;124m\"\u001B[39m,\u001B[38;5;124m\"\u001B[39m\u001B[38;5;124mdischarge_disposition_id\u001B[39m\u001B[38;5;124m\"\u001B[39m,\u001B[38;5;124m\"\u001B[39m\u001B[38;5;124madmission_source_id\u001B[39m\u001B[38;5;124m\"\u001B[39m])\n",
      "\u001B[0;31mNameError\u001B[0m: name 'df' is not defined"
     ]
    }
   ],
   "source": [
    "\n",
    "df=df.drop(\"examide\",axis=\"columns\")\n",
    "df=df.drop(\"citoglipton\",axis=\"columns\")\n",
    "df=df.drop(\"payer_code\",axis=\"columns\")\n",
    "df=df.drop(\"metformin.rosiglitazone\",axis=\"columns\")\n",
    "df=df.drop(\"admission_type_id\",axis=\"columns\")\n",
    "df=df.drop(\"discharge_disposition_id\",axis=\"columns\")\n",
    "df=df.drop(\"admission_source_id\",axis=\"columns\")\n",
    "\n",
    "\n"
   ]
  },
  {
   "cell_type": "code",
   "execution_count": null,
   "metadata": {},
   "outputs": [],
   "source": [
    "df[\"diag_1\"] = pd.to_numeric(df[\"diag_1\"], errors='coerce')\n",
    "df[\"diag_2\"] = pd.to_numeric(df[\"diag_2\"], errors='coerce')\n",
    "df[\"diag_3\"] = pd.to_numeric(df[\"diag_3\"], errors='coerce')\n",
    "df.isna().sum()\n",
    "df=df.dropna()\n"
   ]
  },
  {
   "cell_type": "code",
   "execution_count": null,
   "metadata": {},
   "outputs": [],
   "source": [
    "df.isnull().sum()"
   ]
  },
  {
   "cell_type": "code",
   "execution_count": null,
   "metadata": {},
   "outputs": [],
   "source": [
    "\n",
    "display(df.hist(figsize=(18,18)))\n",
    "\n",
    "\n"
   ]
  },
  {
   "cell_type": "code",
   "execution_count": null,
   "metadata": {},
   "outputs": [],
   "source": [
    "cor=df.corr()\n",
    "sns.heatmap(cor)"
   ]
  },
  {
   "cell_type": "code",
   "execution_count": null,
   "metadata": {},
   "outputs": [],
   "source": [
    "# Handling Outliers using Z-score\n",
    "z_scores = np.abs((df - df.mean()) / df.std())\n",
    "\n",
    "df_no_outliers = df[(z_scores < 3).all(axis=1)]  # Keeping rows with Z-score < 3\n",
    "display(df_no_outliers)\n",
    "df.to_excel(\"cleaned_data.xlsx\")"
   ]
  },
  {
   "cell_type": "code",
   "execution_count": null,
   "metadata": {},
   "outputs": [],
   "source": [
    "df.describe()"
   ]
  },
  {
   "cell_type": "code",
   "execution_count": null,
   "metadata": {},
   "outputs": [],
   "source": []
  },
  {
   "cell_type": "code",
   "execution_count": null,
   "metadata": {},
   "outputs": [],
   "source": [
    "\n"
   ]
  },
  {
   "cell_type": "code",
   "execution_count": null,
   "metadata": {},
   "outputs": [],
   "source": [
    "# Load the cleaned data\n",
    "df = pd.read_excel(\"cleaned_data.xlsx\")\n",
    "\n",
    "\n",
    "# Define the feature columns and target column\n",
    "X = df.drop(\"readmitted\", axis=1)  # Features\n",
    "y = df[\"readmitted\"]  # Target\n",
    "\n",
    "# Split the data into training and testing sets\n",
    "X_train, X_test, y_train, y_test = train_test_split(X, y, test_size=0.2, random_state=42)\n",
    "\n",
    "# Initialize and train a RandomForestClassifier\n",
    "rf_classifier = RandomForestClassifier(n_estimators=100, random_state=42)\n",
    "rf_classifier.fit(X_train, y_train)\n",
    "\n",
    "# Make predictions on the test set\n",
    "y_pred = rf_classifier.predict(X_test)\n",
    "\n",
    "# Evaluate the classifier\n",
    "print(\"Classification Report:\\n\", classification_report(y_test, y_pred))\n",
    "\n",
    "# Assign severity scores to patients\n",
    "# This is a simplified example, actual scoring logic might be more complex\n",
    "severity_scores = df[\"age\"] + df[\"time_in_hospital\"] + df[\"num_lab_procedures\"]\n",
    "\n",
    "# Identify high-cost patients\n",
    "high_cost_patients = df[severity_scores >= severity_scores.quantile(0.75)]\n",
    "\n",
    "# Segregate patients based on care paths\n",
    "care_intervention_patients = high_cost_patients[high_cost_patients[\"num_medications\"] > high_cost_patients[\"num_medications\"].median()]\n",
    "lower_cost_care_patients = high_cost_patients[high_cost_patients[\"num_medications\"] <= high_cost_patients[\"num_medications\"].median()]\n",
    "\n",
    "# Print the counts of patients in each care path\n",
    "print(\"Care Intervention Patients:\", care_intervention_patients.shape[0])\n",
    "print(\"Lower Cost Care Patients:\", lower_cost_care_patients.shape[0])"
   ]
  },
  {
   "cell_type": "code",
   "execution_count": null,
   "metadata": {},
   "outputs": [],
   "source": []
  }
 ],
 "metadata": {
  "kernelspec": {
   "display_name": "Python 3 (ipykernel)",
   "language": "python",
   "name": "python3"
  },
  "language_info": {
   "codemirror_mode": {
    "name": "ipython",
    "version": 3
   },
   "file_extension": ".py",
   "mimetype": "text/x-python",
   "name": "python",
   "nbconvert_exporter": "python",
   "pygments_lexer": "ipython3",
   "version": "3.10.8"
  }
 },
 "nbformat": 4,
 "nbformat_minor": 1
}
